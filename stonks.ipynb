{
 "cells": [
  {
   "cell_type": "markdown",
   "metadata": {},
   "source": [
    "# **Getting them stonks: An introduction to the Mean-Variance framework for portfolio optimization**\n",
    "---"
   ]
  },
  {
   "cell_type": "markdown",
   "metadata": {},
   "source": [
    "## Contents:\n",
    "\n",
    ">[1 - Introduction](#1---Introduction)\n",
    ">\n",
    ">[2 - Importing modules](#2---Importing-modules)\n",
    ">\n",
    ">[3 - Data retrieval](#3---Data-retrieval)\n",
    ">\n",
    ">[4 - Preprocessing](#4---Preprocessing)\n",
    ">\n",
    ">[5 - Modelling](#5---Modelling)\n",
    ">\n",
    ">[6 - Conclusion](#6---Conclusion)\n",
    ">\n"
   ]
  },
  {
   "cell_type": "markdown",
   "metadata": {},
   "source": [
    "## 1 - Introduction"
   ]
  },
  {
   "cell_type": "markdown",
   "metadata": {},
   "source": [
    "1. Present aim\n",
    "2. Explain Theory (mean-variance optimization)\n",
    "3. Get data (summary stats)\n",
    "4. Plot Efficient frontier + portfolio points (MC simulation)\n",
    "5. Change parameters\n",
    "6. Extensions"
   ]
  },
  {
   "cell_type": "markdown",
   "metadata": {},
   "source": [
    "### **Q:** Situation: You won the lottery, recieved the paycheck for your summer internship, or that distant uncle you didn't even know passed and left you some money... what do you do?\n",
    "### **A:** Invest... but how?"
   ]
  },
  {
   "cell_type": "markdown",
   "metadata": {},
   "source": [
    "Recepie for investment:\n",
    "\n",
    "1. Define a goal/strategy\n",
    "2. Pick suitable assets\n",
    "3. **Construct a suitable portfolio**\n",
    "4. Check and repeat"
   ]
  },
  {
   "cell_type": "markdown",
   "metadata": {},
   "source": [
    "### **Q:** Given $n$ assets, what is the optimal allocation of these within a portfolio?\n",
    "### **A:** There are many..."
   ]
  },
  {
   "cell_type": "markdown",
   "metadata": {},
   "source": [
    "### The Mean-Variance framework:\n",
    "- Developed by Harry Markowitz in 1952 (earned him Nobel Price in Economics)\n",
    "- Aims to solve the above problem using two ingredients:\n",
    "    1. The volatility of asset returns (risk) - for stocks, this is the average log first difference in stock prices\n",
    "    2. The expected asset returns (reward) - for stocks, this is the sample covariance of periodic returns\n",
    "- Shortcomings:\n",
    "    - Stock returns can be non-stationary $\\implies$ we can't used average returns as a reasonable forecast\n",
    "    - Stock returns are notoriously hard to forecast (Efficient Market Hypothesis)\n",
    "    \n",
    "### Goal: Using those two ingredients, find an set of weights for how much each asset should make up of the total portfolio\n",
    "    "
   ]
  },
  {
   "cell_type": "markdown",
   "metadata": {},
   "source": [
    "## 2 - Importing modules"
   ]
  },
  {
   "cell_type": "code",
   "execution_count": 1,
   "metadata": {},
   "outputs": [],
   "source": [
    "import numpy as np\n",
    "import pandas as pd\n",
    "import cvxpy as cp\n",
    "import pandas_datareader.data as web\n",
    "import matplotlib.pyplot as plt\n",
    "from random import seed\n",
    "from random import random\n",
    "\n",
    "seed(1)\n",
    "%matplotlib inline"
   ]
  },
  {
   "cell_type": "markdown",
   "metadata": {},
   "source": [
    "## 3 - Data retrieval"
   ]
  },
  {
   "cell_type": "markdown",
   "metadata": {},
   "source": [
    "First, we need to gather data on stock prices for a selection of assets. We focus our attention on [Investopedia's Top Stocks for March 2021](https://www.investopedia.com/top-stocks-4581225) during the period Feb 2018 - Feb 2021."
   ]
  },
  {
   "cell_type": "code",
   "execution_count": 2,
   "metadata": {},
   "outputs": [
    {
     "data": {
      "text/html": [
       "<div>\n",
       "<style scoped>\n",
       "    .dataframe tbody tr th:only-of-type {\n",
       "        vertical-align: middle;\n",
       "    }\n",
       "\n",
       "    .dataframe tbody tr th {\n",
       "        vertical-align: top;\n",
       "    }\n",
       "\n",
       "    .dataframe thead tr th {\n",
       "        text-align: left;\n",
       "    }\n",
       "\n",
       "    .dataframe thead tr:last-of-type th {\n",
       "        text-align: right;\n",
       "    }\n",
       "</style>\n",
       "<table border=\"1\" class=\"dataframe\">\n",
       "  <thead>\n",
       "    <tr>\n",
       "      <th>Attributes</th>\n",
       "      <th colspan=\"10\" halign=\"left\">Adj Close</th>\n",
       "      <th>...</th>\n",
       "      <th colspan=\"10\" halign=\"left\">Volume</th>\n",
       "    </tr>\n",
       "    <tr>\n",
       "      <th>Symbols</th>\n",
       "      <th>NRG</th>\n",
       "      <th>BIO</th>\n",
       "      <th>VIRT</th>\n",
       "      <th>WTM</th>\n",
       "      <th>ALL</th>\n",
       "      <th>MAT</th>\n",
       "      <th>FCX</th>\n",
       "      <th>IAC</th>\n",
       "      <th>ZM</th>\n",
       "      <th>CE</th>\n",
       "      <th>...</th>\n",
       "      <th>MAT</th>\n",
       "      <th>FCX</th>\n",
       "      <th>IAC</th>\n",
       "      <th>ZM</th>\n",
       "      <th>CE</th>\n",
       "      <th>MRNA</th>\n",
       "      <th>PTON</th>\n",
       "      <th>ETSY</th>\n",
       "      <th>TSLA</th>\n",
       "      <th>ZS</th>\n",
       "    </tr>\n",
       "    <tr>\n",
       "      <th>Date</th>\n",
       "      <th></th>\n",
       "      <th></th>\n",
       "      <th></th>\n",
       "      <th></th>\n",
       "      <th></th>\n",
       "      <th></th>\n",
       "      <th></th>\n",
       "      <th></th>\n",
       "      <th></th>\n",
       "      <th></th>\n",
       "      <th></th>\n",
       "      <th></th>\n",
       "      <th></th>\n",
       "      <th></th>\n",
       "      <th></th>\n",
       "      <th></th>\n",
       "      <th></th>\n",
       "      <th></th>\n",
       "      <th></th>\n",
       "      <th></th>\n",
       "      <th></th>\n",
       "    </tr>\n",
       "  </thead>\n",
       "  <tbody>\n",
       "    <tr>\n",
       "      <th>2019-02-11</th>\n",
       "      <td>40.368961</td>\n",
       "      <td>252.929993</td>\n",
       "      <td>23.600658</td>\n",
       "      <td>920.919434</td>\n",
       "      <td>88.779411</td>\n",
       "      <td>15.740000</td>\n",
       "      <td>11.329431</td>\n",
       "      <td>NaN</td>\n",
       "      <td>NaN</td>\n",
       "      <td>91.073799</td>\n",
       "      <td>...</td>\n",
       "      <td>16303600.0</td>\n",
       "      <td>15561600.0</td>\n",
       "      <td>NaN</td>\n",
       "      <td>NaN</td>\n",
       "      <td>1123000.0</td>\n",
       "      <td>597900.0</td>\n",
       "      <td>NaN</td>\n",
       "      <td>2122300.0</td>\n",
       "      <td>35648500.0</td>\n",
       "      <td>1122800.0</td>\n",
       "    </tr>\n",
       "    <tr>\n",
       "      <th>2019-02-12</th>\n",
       "      <td>40.521839</td>\n",
       "      <td>258.100006</td>\n",
       "      <td>23.862984</td>\n",
       "      <td>913.227234</td>\n",
       "      <td>89.144028</td>\n",
       "      <td>16.469999</td>\n",
       "      <td>11.290126</td>\n",
       "      <td>NaN</td>\n",
       "      <td>NaN</td>\n",
       "      <td>94.205116</td>\n",
       "      <td>...</td>\n",
       "      <td>15181600.0</td>\n",
       "      <td>15617900.0</td>\n",
       "      <td>NaN</td>\n",
       "      <td>NaN</td>\n",
       "      <td>1511900.0</td>\n",
       "      <td>753100.0</td>\n",
       "      <td>NaN</td>\n",
       "      <td>2576600.0</td>\n",
       "      <td>27588000.0</td>\n",
       "      <td>1493600.0</td>\n",
       "    </tr>\n",
       "    <tr>\n",
       "      <th>2019-02-13</th>\n",
       "      <td>40.655602</td>\n",
       "      <td>261.790009</td>\n",
       "      <td>23.763483</td>\n",
       "      <td>901.424561</td>\n",
       "      <td>90.189827</td>\n",
       "      <td>17.070000</td>\n",
       "      <td>12.076210</td>\n",
       "      <td>NaN</td>\n",
       "      <td>NaN</td>\n",
       "      <td>93.768631</td>\n",
       "      <td>...</td>\n",
       "      <td>10584100.0</td>\n",
       "      <td>36169400.0</td>\n",
       "      <td>NaN</td>\n",
       "      <td>NaN</td>\n",
       "      <td>811700.0</td>\n",
       "      <td>1333500.0</td>\n",
       "      <td>NaN</td>\n",
       "      <td>2073500.0</td>\n",
       "      <td>25708000.0</td>\n",
       "      <td>1194800.0</td>\n",
       "    </tr>\n",
       "    <tr>\n",
       "      <th>2019-02-14</th>\n",
       "      <td>40.712940</td>\n",
       "      <td>261.420013</td>\n",
       "      <td>23.265959</td>\n",
       "      <td>898.381592</td>\n",
       "      <td>89.451050</td>\n",
       "      <td>16.910000</td>\n",
       "      <td>11.948471</td>\n",
       "      <td>NaN</td>\n",
       "      <td>NaN</td>\n",
       "      <td>94.451813</td>\n",
       "      <td>...</td>\n",
       "      <td>6968400.0</td>\n",
       "      <td>15313400.0</td>\n",
       "      <td>NaN</td>\n",
       "      <td>NaN</td>\n",
       "      <td>921500.0</td>\n",
       "      <td>1091400.0</td>\n",
       "      <td>NaN</td>\n",
       "      <td>1595400.0</td>\n",
       "      <td>26004000.0</td>\n",
       "      <td>1315000.0</td>\n",
       "    </tr>\n",
       "    <tr>\n",
       "      <th>2019-02-15</th>\n",
       "      <td>40.569614</td>\n",
       "      <td>270.339996</td>\n",
       "      <td>22.858894</td>\n",
       "      <td>903.908752</td>\n",
       "      <td>90.554420</td>\n",
       "      <td>13.820000</td>\n",
       "      <td>12.066383</td>\n",
       "      <td>NaN</td>\n",
       "      <td>NaN</td>\n",
       "      <td>95.653938</td>\n",
       "      <td>...</td>\n",
       "      <td>33526900.0</td>\n",
       "      <td>16573400.0</td>\n",
       "      <td>NaN</td>\n",
       "      <td>NaN</td>\n",
       "      <td>1337400.0</td>\n",
       "      <td>2087400.0</td>\n",
       "      <td>NaN</td>\n",
       "      <td>2537500.0</td>\n",
       "      <td>19524500.0</td>\n",
       "      <td>1018100.0</td>\n",
       "    </tr>\n",
       "  </tbody>\n",
       "</table>\n",
       "<p>5 rows × 90 columns</p>\n",
       "</div>"
      ],
      "text/plain": [
       "Attributes  Adj Close                                                \\\n",
       "Symbols           NRG         BIO       VIRT         WTM        ALL   \n",
       "Date                                                                  \n",
       "2019-02-11  40.368961  252.929993  23.600658  920.919434  88.779411   \n",
       "2019-02-12  40.521839  258.100006  23.862984  913.227234  89.144028   \n",
       "2019-02-13  40.655602  261.790009  23.763483  901.424561  90.189827   \n",
       "2019-02-14  40.712940  261.420013  23.265959  898.381592  89.451050   \n",
       "2019-02-15  40.569614  270.339996  22.858894  903.908752  90.554420   \n",
       "\n",
       "Attributes                                           ...      Volume  \\\n",
       "Symbols           MAT        FCX IAC  ZM         CE  ...         MAT   \n",
       "Date                                                 ...               \n",
       "2019-02-11  15.740000  11.329431 NaN NaN  91.073799  ...  16303600.0   \n",
       "2019-02-12  16.469999  11.290126 NaN NaN  94.205116  ...  15181600.0   \n",
       "2019-02-13  17.070000  12.076210 NaN NaN  93.768631  ...  10584100.0   \n",
       "2019-02-14  16.910000  11.948471 NaN NaN  94.451813  ...   6968400.0   \n",
       "2019-02-15  13.820000  12.066383 NaN NaN  95.653938  ...  33526900.0   \n",
       "\n",
       "Attributes                                                            \\\n",
       "Symbols            FCX IAC  ZM         CE       MRNA PTON       ETSY   \n",
       "Date                                                                   \n",
       "2019-02-11  15561600.0 NaN NaN  1123000.0   597900.0  NaN  2122300.0   \n",
       "2019-02-12  15617900.0 NaN NaN  1511900.0   753100.0  NaN  2576600.0   \n",
       "2019-02-13  36169400.0 NaN NaN   811700.0  1333500.0  NaN  2073500.0   \n",
       "2019-02-14  15313400.0 NaN NaN   921500.0  1091400.0  NaN  1595400.0   \n",
       "2019-02-15  16573400.0 NaN NaN  1337400.0  2087400.0  NaN  2537500.0   \n",
       "\n",
       "Attributes                         \n",
       "Symbols           TSLA         ZS  \n",
       "Date                               \n",
       "2019-02-11  35648500.0  1122800.0  \n",
       "2019-02-12  27588000.0  1493600.0  \n",
       "2019-02-13  25708000.0  1194800.0  \n",
       "2019-02-14  26004000.0  1315000.0  \n",
       "2019-02-15  19524500.0  1018100.0  \n",
       "\n",
       "[5 rows x 90 columns]"
      ]
     },
     "execution_count": 2,
     "metadata": {},
     "output_type": "execute_result"
    }
   ],
   "source": [
    "# Specify asset symbols\n",
    "stocks = ['NRG','BIO','VIRT','WTM','ALL','MAT','FCX','IAC','ZM','CE','MRNA','PTON','ETSY','TSLA','ZS']\n",
    "data = web.DataReader(stocks, 'yahoo', start='2019/02/10', end='2021/02/10')\n",
    "data.head()"
   ]
  },
  {
   "cell_type": "code",
   "execution_count": 3,
   "metadata": {},
   "outputs": [
    {
     "name": "stdout",
     "output_type": "stream",
     "text": [
      "<class 'pandas.core.frame.DataFrame'>\n",
      "DatetimeIndex: 505 entries, 2019-02-11 to 2021-02-10\n",
      "Columns: 90 entries, ('Adj Close', 'NRG') to ('Volume', 'ZS')\n",
      "dtypes: float64(90)\n",
      "memory usage: 359.0 KB\n"
     ]
    }
   ],
   "source": [
    "data.info(verbose=False)"
   ]
  },
  {
   "cell_type": "markdown",
   "metadata": {},
   "source": [
    "## 4 - Preprocessing"
   ]
  },
  {
   "cell_type": "code",
   "execution_count": 4,
   "metadata": {},
   "outputs": [
    {
     "data": {
      "text/html": [
       "<div>\n",
       "<style scoped>\n",
       "    .dataframe tbody tr th:only-of-type {\n",
       "        vertical-align: middle;\n",
       "    }\n",
       "\n",
       "    .dataframe tbody tr th {\n",
       "        vertical-align: top;\n",
       "    }\n",
       "\n",
       "    .dataframe thead th {\n",
       "        text-align: right;\n",
       "    }\n",
       "</style>\n",
       "<table border=\"1\" class=\"dataframe\">\n",
       "  <thead>\n",
       "    <tr style=\"text-align: right;\">\n",
       "      <th>Symbols</th>\n",
       "      <th>NRG</th>\n",
       "      <th>BIO</th>\n",
       "      <th>VIRT</th>\n",
       "      <th>WTM</th>\n",
       "      <th>ALL</th>\n",
       "      <th>MAT</th>\n",
       "      <th>FCX</th>\n",
       "      <th>IAC</th>\n",
       "      <th>ZM</th>\n",
       "      <th>CE</th>\n",
       "      <th>MRNA</th>\n",
       "      <th>PTON</th>\n",
       "      <th>ETSY</th>\n",
       "      <th>TSLA</th>\n",
       "      <th>ZS</th>\n",
       "    </tr>\n",
       "    <tr>\n",
       "      <th>Date</th>\n",
       "      <th></th>\n",
       "      <th></th>\n",
       "      <th></th>\n",
       "      <th></th>\n",
       "      <th></th>\n",
       "      <th></th>\n",
       "      <th></th>\n",
       "      <th></th>\n",
       "      <th></th>\n",
       "      <th></th>\n",
       "      <th></th>\n",
       "      <th></th>\n",
       "      <th></th>\n",
       "      <th></th>\n",
       "      <th></th>\n",
       "    </tr>\n",
       "  </thead>\n",
       "  <tbody>\n",
       "    <tr>\n",
       "      <th>2019-02-11</th>\n",
       "      <td>40.368961</td>\n",
       "      <td>252.929993</td>\n",
       "      <td>23.600658</td>\n",
       "      <td>920.919434</td>\n",
       "      <td>88.779411</td>\n",
       "      <td>15.740000</td>\n",
       "      <td>11.329431</td>\n",
       "      <td>NaN</td>\n",
       "      <td>NaN</td>\n",
       "      <td>91.073799</td>\n",
       "      <td>18.170000</td>\n",
       "      <td>NaN</td>\n",
       "      <td>53.150002</td>\n",
       "      <td>62.568001</td>\n",
       "      <td>48.590000</td>\n",
       "    </tr>\n",
       "    <tr>\n",
       "      <th>2019-02-12</th>\n",
       "      <td>40.521839</td>\n",
       "      <td>258.100006</td>\n",
       "      <td>23.862984</td>\n",
       "      <td>913.227234</td>\n",
       "      <td>89.144028</td>\n",
       "      <td>16.469999</td>\n",
       "      <td>11.290126</td>\n",
       "      <td>NaN</td>\n",
       "      <td>NaN</td>\n",
       "      <td>94.205116</td>\n",
       "      <td>18.690001</td>\n",
       "      <td>NaN</td>\n",
       "      <td>55.830002</td>\n",
       "      <td>62.362000</td>\n",
       "      <td>50.099998</td>\n",
       "    </tr>\n",
       "    <tr>\n",
       "      <th>2019-02-13</th>\n",
       "      <td>40.655602</td>\n",
       "      <td>261.790009</td>\n",
       "      <td>23.763483</td>\n",
       "      <td>901.424561</td>\n",
       "      <td>90.189827</td>\n",
       "      <td>17.070000</td>\n",
       "      <td>12.076210</td>\n",
       "      <td>NaN</td>\n",
       "      <td>NaN</td>\n",
       "      <td>93.768631</td>\n",
       "      <td>18.530001</td>\n",
       "      <td>NaN</td>\n",
       "      <td>55.040001</td>\n",
       "      <td>61.633999</td>\n",
       "      <td>49.000000</td>\n",
       "    </tr>\n",
       "    <tr>\n",
       "      <th>2019-02-14</th>\n",
       "      <td>40.712940</td>\n",
       "      <td>261.420013</td>\n",
       "      <td>23.265959</td>\n",
       "      <td>898.381592</td>\n",
       "      <td>89.451050</td>\n",
       "      <td>16.910000</td>\n",
       "      <td>11.948471</td>\n",
       "      <td>NaN</td>\n",
       "      <td>NaN</td>\n",
       "      <td>94.451813</td>\n",
       "      <td>19.660000</td>\n",
       "      <td>NaN</td>\n",
       "      <td>54.060001</td>\n",
       "      <td>60.754002</td>\n",
       "      <td>50.080002</td>\n",
       "    </tr>\n",
       "    <tr>\n",
       "      <th>2019-02-15</th>\n",
       "      <td>40.569614</td>\n",
       "      <td>270.339996</td>\n",
       "      <td>22.858894</td>\n",
       "      <td>903.908752</td>\n",
       "      <td>90.554420</td>\n",
       "      <td>13.820000</td>\n",
       "      <td>12.066383</td>\n",
       "      <td>NaN</td>\n",
       "      <td>NaN</td>\n",
       "      <td>95.653938</td>\n",
       "      <td>21.440001</td>\n",
       "      <td>NaN</td>\n",
       "      <td>54.660000</td>\n",
       "      <td>61.576000</td>\n",
       "      <td>50.110001</td>\n",
       "    </tr>\n",
       "  </tbody>\n",
       "</table>\n",
       "</div>"
      ],
      "text/plain": [
       "Symbols           NRG         BIO       VIRT         WTM        ALL  \\\n",
       "Date                                                                  \n",
       "2019-02-11  40.368961  252.929993  23.600658  920.919434  88.779411   \n",
       "2019-02-12  40.521839  258.100006  23.862984  913.227234  89.144028   \n",
       "2019-02-13  40.655602  261.790009  23.763483  901.424561  90.189827   \n",
       "2019-02-14  40.712940  261.420013  23.265959  898.381592  89.451050   \n",
       "2019-02-15  40.569614  270.339996  22.858894  903.908752  90.554420   \n",
       "\n",
       "Symbols           MAT        FCX  IAC  ZM         CE       MRNA  PTON  \\\n",
       "Date                                                                    \n",
       "2019-02-11  15.740000  11.329431  NaN NaN  91.073799  18.170000   NaN   \n",
       "2019-02-12  16.469999  11.290126  NaN NaN  94.205116  18.690001   NaN   \n",
       "2019-02-13  17.070000  12.076210  NaN NaN  93.768631  18.530001   NaN   \n",
       "2019-02-14  16.910000  11.948471  NaN NaN  94.451813  19.660000   NaN   \n",
       "2019-02-15  13.820000  12.066383  NaN NaN  95.653938  21.440001   NaN   \n",
       "\n",
       "Symbols          ETSY       TSLA         ZS  \n",
       "Date                                         \n",
       "2019-02-11  53.150002  62.568001  48.590000  \n",
       "2019-02-12  55.830002  62.362000  50.099998  \n",
       "2019-02-13  55.040001  61.633999  49.000000  \n",
       "2019-02-14  54.060001  60.754002  50.080002  \n",
       "2019-02-15  54.660000  61.576000  50.110001  "
      ]
     },
     "execution_count": 4,
     "metadata": {},
     "output_type": "execute_result"
    }
   ],
   "source": [
    "data = data['Adj Close']\n",
    "data.head()"
   ]
  },
  {
   "cell_type": "code",
   "execution_count": 5,
   "metadata": {},
   "outputs": [
    {
     "name": "stdout",
     "output_type": "stream",
     "text": [
      "<class 'pandas.core.frame.DataFrame'>\n",
      "DatetimeIndex: 505 entries, 2019-02-11 to 2021-02-10\n",
      "Columns: 15 entries, NRG to ZS\n",
      "dtypes: float64(15)\n",
      "memory usage: 63.1 KB\n"
     ]
    }
   ],
   "source": [
    "returns = (np.log(data)).diff()\n",
    "returns.info(verbose=False)\n"
   ]
  },
  {
   "cell_type": "code",
   "execution_count": 10,
   "metadata": {},
   "outputs": [],
   "source": [
    "ex_returns = returns.mean()\n",
    "cov_returns = returns.cov()"
   ]
  },
  {
   "cell_type": "markdown",
   "metadata": {},
   "source": [
    "## 5 - Modelling"
   ]
  },
  {
   "cell_type": "markdown",
   "metadata": {},
   "source": [
    "#### Goal:\n",
    "\n",
    "$W=\\begin{bmatrix}\n",
    "w_1\\\\\n",
    "\\vdots \\\\\n",
    "w_n\n",
    "\\end{bmatrix}$\n",
    "\n",
    "#### Ingredients:\n",
    "\n",
    "#### $R=\\begin{bmatrix}\n",
    "\\mathbb{E}[r_1]\\\\\n",
    "\\vdots \\\\\n",
    "\\mathbb{E}[r_n]\n",
    "\\end{bmatrix} \\quad,\\quad\\Sigma = \\begin{bmatrix}\n",
    "\\sigma_{11} & \\dots & \\sigma_{n1}\\\\\n",
    "\\vdots & \\ddots & \\vdots\\\\\n",
    "\\sigma_{1n} & \\dots & \\sigma_{nn}\n",
    "\\end{bmatrix}$\n",
    "\n",
    "#### Plan of Attack:\n",
    "1. Define our objective function\n",
    "2. OPTIMIZE!\n",
    "3. Analyze solutions"
   ]
  },
  {
   "cell_type": "markdown",
   "metadata": {},
   "source": [
    "### Model 1: Minimum volatility\n",
    "\n",
    "#### $ \\underset{W}{\\text{min}} \\quad  W^T\\:\\Sigma \\: W$\n",
    "#### $\\textrm{s.t}\\quad \\sum_{i=1}^{n}{w_i}=1 \\quad , \\quad w_i\\geq 0$\n"
   ]
  },
  {
   "cell_type": "code",
   "execution_count": 7,
   "metadata": {},
   "outputs": [
    {
     "name": "stdout",
     "output_type": "stream",
     "text": [
      "\n",
      "The optimal value is 0.00016442906276205004\n",
      "Solution weight is\n",
      "[ 6.95216244e-02  1.03680106e-01  2.00519006e-01  2.55487462e-01\n",
      "  1.09232164e-01  3.30430180e-02  1.20304320e-19  1.08345114e-01\n",
      "  5.40576310e-02  2.03043329e-19  5.54032645e-02  1.07106109e-02\n",
      "  2.93221901e-19  3.63203996e-19 -5.95152625e-21]\n"
     ]
    }
   ],
   "source": [
    "# Defining weights vector\n",
    "n = 15\n",
    "w = cp.Variable(n)\n",
    "\n",
    "# Creating objective function and constraints\n",
    "objective = cp.quad_form(w, cov_returns)\n",
    "constraints = [w>=0,                    # no short-selling constraint\n",
    "               (np.ones(n))@w == 1]     # market-neutral constraint\n",
    "\n",
    "# Solving for optimal portfolio\n",
    "problem = cp.Problem(cp.Minimize(objective), constraints)\n",
    "problem.solve()\n",
    "\n",
    "# Print result\n",
    "print(\"\\nThe optimal value is\", problem.value)\n",
    "print(\"Solution weight is\")\n",
    "print(w.value)\n"
   ]
  },
  {
   "cell_type": "markdown",
   "metadata": {},
   "source": [
    "### Model 1: Minimum volatility (with short-selling)\n",
    "\n",
    "#### $ \\underset{W}{\\text{min}} \\quad  W^T\\:\\Sigma \\: W$\n",
    "#### $\\textrm{s.t}\\quad \\sum_{i=1}^{n}{w_i}=1$\n"
   ]
  },
  {
   "cell_type": "code",
   "execution_count": 8,
   "metadata": {},
   "outputs": [
    {
     "name": "stdout",
     "output_type": "stream",
     "text": [
      "\n",
      "The optimal value is 0.00015173208467840986\n",
      "Solution weight is\n",
      "[ 0.09393574  0.10101893  0.19661463  0.2360158   0.14246694  0.04654119\n",
      " -0.06193708  0.15767521  0.06110636  0.05979388  0.05569257  0.0164063\n",
      " -0.04202623 -0.06248073 -0.00082351]\n"
     ]
    }
   ],
   "source": [
    "# Defining weights vector\n",
    "n = cov_returns.shape[0]\n",
    "w = cp.Variable(n)\n",
    "\n",
    "# Creating objective function and constraints\n",
    "objective = cp.quad_form(w, cov_returns)\n",
    "constraints = [(np.ones(n))@w == 1]     # market-neutral constraint\n",
    "\n",
    "# Solving for optimal portfolio\n",
    "problem = cp.Problem(cp.Minimize(objective), constraints)\n",
    "problem.solve()\n",
    "\n",
    "# Print result\n",
    "print(\"\\nThe optimal value is\", problem.value)\n",
    "print(\"Solution weight is\")\n",
    "print(w.value)"
   ]
  },
  {
   "cell_type": "markdown",
   "metadata": {},
   "source": [
    "### Model 3: Risk-efficient\n",
    "\n",
    "#### $ \\underset{W}{\\text{min}} \\quad  W^T\\:\\Sigma \\: W $\n",
    "#### $\\textrm{s.t}\\quad R^T\\!W = \\mu \\quad , \\quad \\sum_{i=1}^{n}{w_i}=1\\quad , \\quad w_i\\geq 0$"
   ]
  },
  {
   "cell_type": "code",
   "execution_count": 15,
   "metadata": {},
   "outputs": [
    {
     "name": "stdout",
     "output_type": "stream",
     "text": [
      "target risk:  0.06376725643485542\n",
      "\n",
      "The optimal value is 0.08316548264715101\n",
      "Solution weight is\n",
      "[-2.93034223 -1.63874226 -3.56089474 -1.34375183 -2.24498806 -1.09036456\n",
      "  2.83962263  8.46558582  0.07907244 -0.2487511   1.8957191   1.62294545\n",
      " -1.1480467   1.04629547 -0.74335944]\n"
     ]
    }
   ],
   "source": [
    "# Defining weights vector\n",
    "n = 15\n",
    "w = cp.Variable(n)\n",
    "\n",
    "# Defining return rate in (0,0.25]\n",
    "mu = (random())/4\n",
    "\n",
    "# Creating objective function and constraints\n",
    "objective = cp.quad_form(w, cov_returns)\n",
    "constraints = [(ex_returns.to_numpy())@w == mu,      # target return constraint\n",
    "               (np.ones(n))@w == 1]     # market-neutral constraint\n",
    "\n",
    "# Solving for optimal portfolio\n",
    "problem = cp.Problem(cp.Minimize(objective), constraints)\n",
    "problem.solve()\n",
    "\n",
    "# Print result\n",
    "print('target risk: ', mu)\n",
    "print(\"\\nThe optimal value is\", problem.value)\n",
    "print(\"Solution weight is\")\n",
    "print(w.value)"
   ]
  },
  {
   "cell_type": "markdown",
   "metadata": {},
   "source": [
    "### Model 4: Return-efficient\n",
    "\n",
    "#### $ \\underset{W}{\\text{max}} \\quad R^T\\!W$\n",
    "#### $\\textrm{s.t}\\quad W^T\\:\\Sigma \\: W = \\sigma^2 \\quad , \\quad \\sum_{i=1}^{n}{w_i}=1 \\quad , \\quad w_i\\geq 0$"
   ]
  },
  {
   "cell_type": "markdown",
   "metadata": {},
   "source": [
    "### Model 5: Maximum Sharpe Ratio *\n",
    "#### $ \\underset{W}{\\text{max}} \\frac{R^T\\!W - r_f}{\\sqrt{W^T\\:\\Sigma \\: W}}$\n",
    "#### $\\textrm{s.t}\\quad \\sum_{i=1}^{n}{w_i}=1 \\quad , \\quad w_i\\geq 0$\n"
   ]
  },
  {
   "cell_type": "markdown",
   "metadata": {},
   "source": [
    "## 6 - Conclusion\n"
   ]
  },
  {
   "cell_type": "markdown",
   "metadata": {},
   "source": [
    "## 7 - References\n"
   ]
  }
 ],
 "metadata": {
  "kernelspec": {
   "display_name": "Python 3",
   "language": "python",
   "name": "python3"
  },
  "language_info": {
   "codemirror_mode": {
    "name": "ipython",
    "version": 3
   },
   "file_extension": ".py",
   "mimetype": "text/x-python",
   "name": "python",
   "nbconvert_exporter": "python",
   "pygments_lexer": "ipython3",
   "version": "3.7.6"
  }
 },
 "nbformat": 4,
 "nbformat_minor": 4
}
